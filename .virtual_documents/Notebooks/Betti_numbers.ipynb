#%matplotlib notebook
#%matplotlib inline
#matplotlib.interactive(True)
%gui qt

import matplotlib
import matplotlib.pyplot as plt
from matplotlib.colors import LogNorm
import matplotlib.image as mpimg
from matplotlib import cm
from matplotlib import rcParams
import matplotlib.animation as animation
from matplotlib.widgets import Slider
import sys
sys.path.append("/lib/python2.7/site-packages/")
sys.path.append("/lib64/python2.7/site-packages/")
sys.path.append("/anaconda2/lib/python2.7/site-packages")
sys.path.append("/home/simon/Documents/Projects/Astrophysics/LOFAR/Tomography/tools21cm-master/src/")
import time
import scipy
from IPython.display import HTML
import pandas as pd
import numpy as np
import math
import cmath
from mpl_toolkits.mplot3d import axes3d, Axes3D #<-- Note the capitalization! 
import json
import ipyvolume as ipv
from astropy.utils.data import get_pkg_data_filename
from astropy.io import fits  # We use fits to open the actual data file
from random import uniform, shuffle, randint
from pyquaternion import Quaternion
from scipy import stats
import csv
from itertools import dropwhile, takewhile
import os
from scipy.optimize import curve_fit
from scipy.interpolate import interp1d
import sklearn.cluster
from scipy.signal import savgol_filter
from scipy import interpolate
from scipy.interpolate import InterpolatedUnivariateSpline
import skimage
from skimage.segmentation import slic
from skimage.segmentation import mark_boundaries
from skimage.util import img_as_float
from skimage import io
import matplotlib.pyplot as plt
import argparse
import tools21cm as t2c
rcParams['font.family'] = 'serif'
rcParams['font.sans-serif'] = ['Computer Modern']
import scipy.stats as st
import brewer2mpl
from scipy.stats import norm
from sklearn.neighbors import KernelDensity
from scipy.spatial.distance import pdist, squareform
from scipy.spatial import Voronoi, Delaunay, delaunay_plot_2d,voronoi_plot_2d
from scipy.spatial import ConvexHull
from scipy.spatial import cKDTree
from random import randrange


def load_binary_data(filename, dtype=np.float32): 
    """ 
    We assume that the data was written 
    with write_binary_data() (little endian). 
    """ 
    f = open(filename, "rb") 
    data = f.read() 
    f.close() 
    _data = np.fromstring(data, dtype) 

    return _data



def pad_cube(cube):
    """Pads cube with zeroes. Returns padded cube"""
    cube_pad = np.zeros((cube.shape[0] + 2, cube.shape[1] + 2, cube.shape[2] + 2))
    cube_pad[1:-1, 1:-1, 1:-1] = cube
    return cube_pad


def update_voxel(rect):
    """Computes updates of dn_i values for a given voxel"""
    assert rect.shape == (3, 3, 2)
    if rect[1, 1, 1] == 0:
        return 0, 0, 0, 0
    Q = 1 - rect
    dn_3 = 1
    dn_2 = 3 + Q[1, 1, 0] + Q[1, 2, 1] + Q[0, 1, 1]
    dn_1 = 3 + Q[1, 1, 0] * Q[1, 2, 1] * Q[1, 2, 0] + Q[1, 1, 0] * Q[2, 1, 0] + Q[1, 1, 0] * Q[1, 0, 0] \
           + Q[1, 1, 0] * Q[0, 1, 1] * Q[0, 1, 0] + Q[1, 2, 1] * Q[2, 2, 1] + Q[0, 1, 1] * 2 \
           + Q[0, 2, 1] * Q[1, 2, 1] * Q[0, 1, 1] + Q[1, 2, 1]
    dn_0 = 1 + Q[0, 1, 1] + Q[1, 2, 1] * Q[2, 2, 1] + Q[0, 2, 1] * Q[1, 2, 1] * Q[0, 1, 1] + \
           Q[1, 1, 0] * Q[2, 1, 0] * Q[2, 0, 0] * Q[1, 0, 0] + Q[0, 1, 0] * Q[1, 1, 0] * Q[1, 0, 0] * Q[0, 0, 0] * \
           Q[0, 1, 1] + Q[1, 2, 0] * Q[2, 2, 0] * Q[2, 1, 0] * Q[1, 1, 0] * Q[1, 2, 1] * Q[2, 2, 1] + Q[0, 2, 0] * \
           Q[1, 2, 0] * Q[1, 1, 0] * Q[0, 1, 0] * Q[0, 2, 1] * Q[1, 2, 1] * Q[0, 1, 1]
    return dn_3, dn_2, dn_1, dn_0

def compute_features(cube):
    """Minkowski feature computation without precomputed updates. Works much slower
       Returns V, S, B, Xi features"""
    cubee = pad_cube(cube)
    n_0, n_1, n_2, n_3 = 0, 0, 0, 0
    for x in range(1, cubee.shape[0] - 1):
        for y in range(1, cubee.shape[1] - 1):
            for z in range(1, cubee.shape[-1] - 1):
                dn_3, dn_2, dn_1, dn_0 = update_voxel(cubee[x - 1:x + 2, y - 1:y + 2, z - 1:z + 1])
                n_3 += dn_3
                n_2 += dn_2
                n_1 += dn_1
                n_0 += dn_0
    V = n_3
    S = -6 * n_3 + 2 * n_2
    B = 3 * n_3 / 2 - n_2 + n_1 / 2
    Xi = - n_3 + n_2 - n_1 + n_0
    return V, S, B, Xi




Directory = '21CMMC/21CMMC_Voronoi/Programs/MockObs/3params_128'
#for j in range(18,50):
z_arr= [9]
ncells = 128
for ii in range(len(z_arr)):
    z = z_arr[ii]
    print z

    name = '%s/delta_T_1.000000_1.000000_z%1.6f_128_256Mpc'%( Directory, z_arr[ii])
    data = load_binary_data(name)
    data = data.reshape((int(ncells), int(ncells), int(ncells)), order='C')
    data.shape = (int(ncells), int(ncells), int(ncells))
        
    data_th = data < 1.
    plt.imshow(data_th[:,:,0])
    


V, S, B, Xi = compute_features(data_th)
print V, S, B, Xi


V, S, B, Xi = compute_features(data_th)
print V/(128.**3), S, B, Xi


print t2c.betti0(data_th)
print t2c.betti1(data_th)
print t2c.betti2(data_th)
print t2c.genus(data_th)


import numpy as np
import matplotlib
import matplotlib.pyplot as plt
mean_objects = [2,5,3]
sig_objects = [1,0.5,0.2]
size_gen = 10
concat_dist = np.zeros((len(mean_objects), size_gen))

for i in range(len(mean_objects)):
    concat_dist[i] = np.random.normal(mean_objects[i], sig_objects[i], size_gen)

plt.figure()
plt.hist(concat_dist[:,0])
plt.show()



