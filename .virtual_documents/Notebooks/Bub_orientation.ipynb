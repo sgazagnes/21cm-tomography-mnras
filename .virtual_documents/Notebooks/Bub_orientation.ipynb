#%matplotlib notebook
#%matplotlib inline
#matplotlib.interactive(True)
%gui qt

import matplotlib
import matplotlib.pyplot as plt
from matplotlib.colors import LogNorm
import matplotlib.image as mpimg
from matplotlib import cm
from matplotlib import rcParams
import matplotlib.animation as animation
from matplotlib.widgets import Slider
import sys
sys.path.append("/lib/python2.7/site-packages/")
sys.path.append("/lib64/python2.7/site-packages/")
sys.path.append("/anaconda2/lib/python2.7/site-packages")
sys.path.append("/home/simon/Documents/Projects/Astrophysics/LOFAR/Tomography/tools21cm-master/src/")
import time
import scipy
from IPython.display import HTML
import pandas as pd
import numpy as np
import math
import cmath
from mpl_toolkits.mplot3d import axes3d, Axes3D #<-- Note the capitalization! 
import json
import ipyvolume as ipv
from astropy.utils.data import get_pkg_data_filename
from astropy.io import fits  # We use fits to open the actual data file
from random import uniform, shuffle, randint
from pyquaternion import Quaternion
from scipy import stats
import csv
from itertools import dropwhile, takewhile
import os
from scipy.optimize import curve_fit
from scipy.interpolate import interp1d
import sklearn.cluster
from scipy.signal import savgol_filter
from scipy import interpolate
from scipy.interpolate import InterpolatedUnivariateSpline
import skimage
from skimage.segmentation import slic
from skimage.segmentation import mark_boundaries
from skimage.util import img_as_float
from skimage import io
import matplotlib.pyplot as plt
import argparse
import tools21cm as t2c
rcParams['font.family'] = 'serif'
rcParams['font.sans-serif'] = ['Computer Modern']
import scipy.stats as st
import brewer2mpl
from scipy.stats import norm
from sklearn.neighbors import KernelDensity
from scipy.spatial.distance import pdist, squareform
import seaborn as sns


# Orientation cos Dcorr
vol_bins = [10,100,1000]
vol_max = [90,150,200]

a = 0
#fig = plt.figure(figsize=(40,15))
for ii, name in enumerate(inprefix):
    fig = plt.figure(figsize=(20,5))
    fig.subplots_adjust(hspace=0.4, wspace=0.4)

    for jj in range(len(vol_bins)):
        try:
            df = pd.read_csv(directory+inprefix[ii]+'_orien_V'+str(vol_bins[jj])+'.csv', header=None)
            a+=1
            mean_cos = []    
            std_cos = [] 
            mean_dcorr = []    
            std_dcorr = [] 
            pairs = []   
            labelsize = 15
            size = len(df.iloc[:,0])
            if(size>1):
                ax = plt.subplot(1,len(vol_bins), jj+1)
                bootstd = []
                for i in range(size-1):
                    bootstd.append(np.nanstd(df.iloc[[i],3:]))
                   # if(df.iloc[i,2]-3*np.nanstd(df.iloc[[i],3:]) > -0.33):
                  #      print inprefix[ii]+'_orien_V'+str(vol_bins[jj])+'bin'+str(i)+':3  sigma'
                (_, caps, _) =  ax.errorbar(df.iloc[1:,0], df.iloc[:-1,2], bootstd, fmt='x', markersize=5, \
                                                                                 linestyle ="None",  capsize = 5)
                plt.xlabel('Euclidian distance (voxels)', fontsize=labelsize)
                plt.ylabel(r'<cos(2$\theta$)>', fontsize=labelsize)
                plt.title(mylegend2[ii]+' [V > '+str(vol_bins[jj])+']', fontsize=labelsize)
                plt.yticks(fontsize=20)
                plt.xticks(fontsize=20)

                plt.ylim((min(df.iloc[:20,2])-0.1,max(df.iloc[:20,2])+0.1))
                plt.xlim((min(df.iloc[1:,0])-5,vol_max[jj]))

                    #ax.legend(fontsize=15 )
                ax.axhline(y=-0.333, xmin=0, xmax=100, c='k',linestyle = '--',label='Random') 
                #ax.text(df.iloc[1,0], max(df.iloc[:20,2])+0.05, "Mean pairs/bin ~ "+str(np.round(np.nanmean(df.iloc[:,1])))+' (First bin:'+str(np.round(df.iloc[0,1]))+')', fontsize = labelsize )
                plt.show
                plt.savefig(prefixsave+'_'+os.path.basename(inprefix[ii])+'_orien_V'+str(vol_bins[jj])+'.pdf', bbox_inches='tight')
        except:
           # ax = plt.subplot(len(vol_bins), nfiles, ii+jj*nfiles+1)
            a +=1
#plt.savefig('Simulations/Images/512mpcR2V1LC1_orien.pdf', bbox_inches='tight')


# CORRELATION AXIS
#fig = plt.figure(figsize=(40,30))
labelsize = 20
#plt.subplots_adjust(hspace=0.4,wspace = 0.4)
vol_bins = [1,10,100,float(np.inf)]
marker = [u's', u'D', u'o', u'x', u'v', u'.', u'X', u'<']

volume=[[] for i in range(nfiles)]
nbubbles=[[] for i in range(nfiles)]
vector=[[] for i in range(nfiles)]
vector_dens = [[]for i in range(nfiles)]
all_x =[[] for i in range(nfiles)]
all_y =[[] for i in range(nfiles)]
all_z =[[] for i in range(nfiles)]
fig = plt.figure(figsize=(20,5))
plt.subplots_adjust(hspace=0.4,wspace = 0.4)

for ii, name in enumerate(inprefix):
        mean_cosx = []
        mean_cosy = []
        mean_cosz = []
        std_cosx = []
        std_cosy = []
        std_cosz = []
        
        mask =[]
        f = open(directory+inprefix[ii]+'_vol.bin', "r")
        volume[ii] = np.fromfile(f, dtype=np.uint64)
        nbubbles[ii] = len(volume[ii])
        f = open(directory+inprefix[ii]+'_vec.bin', "r")
        vector[ii] = np.fromfile(f, dtype=np.float).reshape(-1,3)
       # f = open(directory+inprefix[ii]+'_dens_vec.bin', "r")
       # vector[ii] = np.fromfile(f, dtype=np.float).reshape(-1,3)
        for i in range(nbubbles[ii]):
            all_x[ii].append(2*vector[ii][i][0]**2 -1)
            all_y[ii].append(2*vector[ii][i][1]**2 -1)
            all_z[ii].append(2*vector[ii][i][2]**2 -1)
        
        mean_cosx.append(np.mean(all_x[ii]))
        std_cosx.append(scipy.stats.sem(all_x[ii]))
        mean_cosy.append(np.mean(all_y[ii]))
        std_cosy.append(scipy.stats.sem(all_y[ii]))
        mean_cosz.append(np.mean(all_z[ii]))
        std_cosz.append(scipy.stats.sem(all_z[ii]))
        mask.append(True)
  
        for j in range(len(vol_bins)-1):
            my_xticks = ['False','He','All','10 < V < 100','V > 100']
            sel_id = [i for i in range(nbubbles[ii]) if (volume[ii][i] >= vol_bins[j+1] and volume[ii][i] < vol_bins[j+2])]

            if(len(sel_id) > 50):
                #fig = plt.figure(figsize=(10,5))
                #ax = fig.add_subplot(111)  

                #ax = plt.subplot(len(vol_bins),nfiles, ii+(j+1)*(nfiles)+1)

                sel_x = np.array(all_x[ii])[sel_id]
                sel_y = np.array(all_y[ii])[sel_id]
                sel_z = np.array(all_z[ii])[sel_id]
                mean_cosx.append(np.mean(sel_x))
                std_cosx.append(scipy.stats.sem(sel_x))
                mean_cosy.append(np.mean(sel_y))
                std_cosy.append(scipy.stats.sem(sel_y))
                mean_cosz.append(np.mean(sel_z))
                std_cosz.append(scipy.stats.sem(sel_z))
                mask.append(True)
            else:
                mask.append(False)
  
                
        mean_cosx = np.asarray(mean_cosx)
        std_cosx = np.asarray(std_cosx)
        mean_cosy = np.asarray(mean_cosy)
        std_cosy = np.asarray(std_cosy)
        mean_cosz = np.asarray(mean_cosz)
        std_cosz = np.asarray(std_cosz)
        print mean_cosz
        #mask = np.isfinite(mean_cosx)

        ax = plt.subplot(1,3, 1)  
        ax.set_xscale('log')
        (_, caps, _) =  ax.errorbar(np.asarray(vol_bins[:])[mask], mean_cosx, std_cosx,fmt=marker[ii], markersize=15, linestyle ="None",  capsize = 15, label=mylegend1[ii])
        #ax.legend(labels = mylegend1, loc = 'lower left', fontsize=15, frameon=False )
        ax.axhline(y=-0.333, xmin=0, xmax=100, c='k',linestyle = '--',label='_nolegend_') 
        plt.xlabel('Volume bin (voxels)', fontsize=labelsize)
        plt.ylabel(r'<cos(2$\theta$)>', fontsize=labelsize)
        plt.title(r'X direction', fontsize=labelsize)    
        plt.tick_params(axis = 'both', which = 'major', labelsize = 15)
        ax.set_xticklabels(my_xticks)

        ax = plt.subplot(1,3, 2)  
        ax.set_xscale('log')
        plt.xlabel('Volume bin (voxels)', fontsize=labelsize)
        plt.ylabel(r'<cos(2$\theta$)>', fontsize=labelsize)
        plt.title(r'Y direction', fontsize=labelsize)
        plt.tick_params(axis = 'both', which = 'major', labelsize = 15)
        ax.set_xticklabels(my_xticks)

        (_, caps, _) =  ax.errorbar(np.asarray(vol_bins[:])[mask], mean_cosy, std_cosy,fmt=marker[ii], markersize=15, linestyle ="None",  capsize = 15, label=mylegend1[ii])
        ax.axhline(y=-0.333, xmin=0, xmax=100, c='k',linestyle = '--',label='_nolegend_') 
        ax = plt.subplot(1,3, 3)
        plt.xlabel('Volume bin (voxels)', fontsize=labelsize)
        plt.ylabel(r'<cos(2$\theta$)>', fontsize=labelsize)
        plt.title(r'Z direction (LOS)', fontsize=labelsize)
        plt.tick_params(axis = 'both', which = 'major', labelsize = 15)

        ax.set_xscale('log')
        (_, caps, _) =  ax.errorbar(np.asarray(vol_bins[:])[mask], mean_cosz, std_cosz,fmt=marker[ii], markersize=15, linestyle ="None",  capsize = 15, label=mylegend1[ii])
        ax.set_xticklabels(my_xticks)

        ax.axhline(y=-0.333, xmin=0, xmax=100, c='k',linestyle = '--',label='_nolegend_')           

plt.legend(bbox_to_anchor=(0.1, 1.4),  fontsize=15, ncol=3, fancybox=True, shadow=True)
plt.savefig(prefixsave+'_axis.pdf', bbox_inches='tight')


# Orientation comparison
vol_bins = [10,100,1000,10000,100000,10000000000]
vol_max = [90,150,200]
color = [u'b', u'r', u'g', u'c', u'm', u'y']
randlegend = ["_nolabel_"]
volume=[[] for i in range(nfiles)]
nbubbles=[[] for i in range(nfiles)]
cosarr=[[] for i in range(nfiles)]
cosarr_ot=[[] for i in range(nfiles)]
dcorrarr=[[] for i in range(nfiles)]
dcorrarr_ot=[[] for i in range(nfiles)]
fig = plt.figure(figsize=(10,10))
fig.subplots_adjust(hspace=0)
for ii, name in enumerate(inprefix):
    f = open(directory+inprefix[ii]+'_vol.bin', "r")
    volume[ii] = np.fromfile(f, dtype=np.uint64)
    nbubbles[ii] = len(volume[ii])
    f = open(directory+inprefix[ii]+'_dens_cos.bin', "r")
    cosarr[ii] = np.fromfile(f, dtype=np.float32)
    f = open(directory+inprefix[ii]+'_dens_rand_cos.bin', "r")
    cosarr_ot[ii] = np.fromfile(f, dtype=np.float32)
    f = open(directory+inprefix[ii]+'_dens_dcorr.bin', "r")
    dcorrarr[ii] = np.fromfile(f, dtype=np.float32)
    f = open(directory+inprefix[ii]+'_dens_rand_dcorr.bin', "r")
    dcorrarr_ot[ii] = np.fromfile(f, dtype=np.float32)
    mean_cos = []    
    std_cos = [] 
    mean_cos_ot = []    
    std_cos_ot = [] 
    mean_dcorr = []    
    std_dcorr = [] 
    mean_dcorr_ot = []    
    std_dcorr_ot = [] 
    for j in range(len(vol_bins)-1):
        sel_id = [i for i in range(nbubbles[ii]) if (volume[ii][i] >= vol_bins[j] and volume[ii][i] < vol_bins[j+1])]
        sel_cos = np.array(cosarr[ii])[sel_id]
        mean_cos.append(np.nanmean(sel_cos)) 
        std_cos.append(scipy.stats.sem(sel_cos))
        sel_cos = np.array(cosarr_ot[ii])[sel_id]
        mean_cos_ot.append(np.nanmean(sel_cos)) 
        std_cos_ot.append(scipy.stats.sem(sel_cos)) 
        
        sel_dcorr = np.array(dcorrarr[ii])[sel_id]
        mean_dcorr.append(np.nanmean(sel_dcorr)) 
        std_dcorr.append(scipy.stats.sem(sel_dcorr))
        sel_dcorr = np.array(dcorrarr_ot[ii])[sel_id]
        mean_dcorr_ot.append(np.nanmean(sel_dcorr)) 
        std_dcorr_ot.append(scipy.stats.sem(sel_dcorr)) 
        
        
    ax = fig.add_subplot(211)  
    mean_cos = np.asarray(mean_cos)
    std_cos = np.asarray(std_cos)
    mean_cos_ot = np.asarray(mean_cos_ot)
    std_cos_ot = np.asarray(std_cos_ot)
    ax.set_xscale('log')

    mask = np.isfinite(mean_cos)
    (_, caps, _) =  ax.errorbar(np.asarray(vol_bins[:-1])[mask], mean_cos[mask], std_cos[mask], fmt='o', markersize=10,\
     linestyle ="None",  capsize = 15,color = color[ii],label = mylegend1[ii])
    if ii == nfiles -1:
        rleg = "Random"
    else:
        rleg = "_nolabel_"
    (_, caps, _) =  ax.errorbar(np.asarray(vol_bins[:-1])[mask], mean_cos_ot[mask], std_cos_ot[mask], fmt='o', markersize=10,\
     linestyle ="None",  capsize = 15,markerfacecolor='none',color = color[ii],label=rleg)
    #plt.xlabel('Volume bin (voxels)', fontsize=labelsize)
    plt.ylabel(r'<cos(2$\theta$)>', fontsize=labelsize)     
    plt.yticks(fontsize=20)
    #plt.xticks(fontsize=20)
   # ax.axhline(y=-0.333, xmin=0, xmax=100, c='k',linestyle = '--',label='_nolegend_') 
    
    
    ax2 = plt.subplot(212)
    mean_dcorr = np.asarray(mean_dcorr)
    std_dcorr = np.asarray(std_dcorr)
    mean_dcorr_ot = np.asarray(mean_dcorr_ot)
    std_dcorr_ot = np.asarray(std_dcorr_ot)
    ax2.set_xscale('log')
    ax.get_shared_x_axes().join(ax, ax2)
    ax.set_xticklabels([])
    mask = np.isfinite(mean_dcorr)
    (_, caps, _) =  ax2.errorbar(np.asarray(vol_bins[:-1])[mask], mean_dcorr[mask], std_dcorr[mask], fmt='o', markersize=10,\
     linestyle ="None",  capsize = 15,color = color[ii])
    (_, caps, _) =  ax2.errorbar(np.asarray(vol_bins[:-1])[mask], mean_dcorr_ot[mask], std_dcorr_ot[mask], fmt='o', markersize=10,\
     linestyle ="None",  capsize = 15,markerfacecolor='none',color = color[ii])
    plt.xlabel('Volume bin (voxels)', fontsize=labelsize)
    plt.ylabel(r'<d$_{corr}$>', fontsize=labelsize)     
    plt.yticks(fontsize=20)
    plt.xticks(fontsize=20)
ax.legend(loc='center left',bbox_to_anchor=(1, 0),  fontsize=15, ncol=1, fancybox=True, shadow=True)

    #plt.show
plt.savefig(prefixsave+'_cos_dcorr.pdf', bbox_inches='tight')


# Orientation comparison
vol_bins = [10,100,1000,10000,100000,10000000000]
vol_max = [90,150,200]
color = [u'b', u'r', u'g', u'c', u'm', u'y']

volume=[[] for i in range(nfiles)]
nbubbles=[[] for i in range(nfiles)]
cen=[[] for i in range(nfiles)]
cen_dens=[[] for i in range(nfiles)]
cen_dens_ot=[[] for i in range(nfiles)]
dist= [[] for i in range(nfiles)]
dist_ot= [[] for i in range(nfiles)]

fig = plt.figure(figsize=(10,5))
for ii, name in enumerate(inprefix):
    inc = 0
    f = open(directory+inprefix[ii]+'_vol.bin', "r")
    volume[ii] = np.fromfile(f, dtype=np.uint64)
    nbubbles[ii] = len(volume[ii])
    f = open(directory+inprefix[ii]+'_dens_cen.bin', "r")
    cen_dens[ii] = np.fromfile(f, dtype=np.float).reshape(-1,3)
    f = open(directory+inprefix[ii]+'_cen.bin', "r")
    cen[ii] = np.fromfile(f, dtype=np.float).reshape(-1,3)
    f = open(directory+inprefix[ii]+'_dens_rand_cen.bin', "r")
    cen_dens_ot[ii] = np.fromfile(f, dtype=np.float).reshape(-1,3)
    inc = 1
    for j in range(nbubbles[ii]):
        dist[ii].append(np.linalg.norm(cen_dens[ii][j]-cen[ii][j]))
        dist_ot[ii].append(np.linalg.norm(cen_dens_ot[ii][j]-cen[ii][j]))

    mean_dist = []    
    std_dist = [] 
    mean_dist_ot = []    
    std_dist_ot = [] 
    for j in range(len(vol_bins)-1):
        sel_id = [i for i in range(nbubbles[ii]) if (volume[ii][i] >= vol_bins[j] and volume[ii][i] < vol_bins[j+1])]
        sel_dist = np.array(dist[ii])[sel_id]
        mean_dist.append(np.nanmean(sel_dist)) 
        std_dist.append(scipy.stats.sem(sel_dist))
        sel_dist = np.array(dist_ot[ii])[sel_id]
        mean_dist_ot.append(np.nanmean(sel_dist)) 
        std_dist_ot.append(scipy.stats.sem(sel_dist))
    mean_dist_ot = np.asarray(mean_dist_ot)
    std_dist_ot = np.asarray(std_dist_ot)

        
    ax = fig.add_subplot(111)  
    mean_dist = np.asarray(mean_dist)
    std_dist = np.asarray(std_dist)
    ax.set_xscale('log')
    ax.set_yscale('log')
    mask = np.isfinite(mean_dist)
    (_, caps, _) =  ax.errorbar(np.asarray(vol_bins[:-1])[mask], mean_dist[mask], std_dist[mask], fmt='o', markersize=10,\
     linestyle ="None",  capsize = 15,color = color[ii], label = mylegend1[ii])
    if ii == nfiles -1:
        rleg = "Random"
    else:
        rleg = "_nolabel_"
    (_, caps, _) =  ax.errorbar(np.asarray(vol_bins[:-1])[mask], mean_dist_ot[mask], std_dist_ot[mask], fmt='o', markersize=10,\
     linestyle ="None",  capsize = 15,markerfacecolor='none',color = color[ii],label=rleg)
    plt.xlabel('Volume bin (voxels)', fontsize=labelsize)
    plt.ylabel(r'<Distance centroids>', fontsize=labelsize)     
    plt.yticks(fontsize=20)
    plt.xticks(fontsize=20)

ax.legend(loc='center left',bbox_to_anchor=(1, 0.5),  fontsize=15, ncol=1 ,fancybox=True, shadow=True)
plt.savefig(prefixsave+'_cent.pdf', bbox_inches='tight')


# Orientation comparison
vol_bins = [10,100,1000,10000,100000,10000000000]
vol_max = [90,150,200]
color = [u'b', u'r', u'g', u'c', u'm', u'y']

volume=[[] for i in range(nfiles)]
nbubbles=[[] for i in range(nfiles)]
cen=[[] for i in range(nfiles)]
all_dens=[[] for i in range(nfiles)]
all_dens_ot=[[] for i in range(nfiles)]
mean_dens_arr=[[] for i in range(nfiles)]
mean_dens_arr_ot=[[] for i in range(nfiles)]
var_dens_arr=[[] for i in range(nfiles)]
var_dens_arr_ot=[[] for i in range(nfiles)]

fig = plt.figure(figsize=(10,10))
fig.subplots_adjust(hspace=0)
for ii, name in enumerate(inprefix):

    f = open(directory+inprefix[ii]+'_vol.bin', "r")
    volume[ii] = np.fromfile(f, dtype=np.uint64)
    nbubbles[ii] = len(volume[ii])
    f = open(directory+inprefix[ii]+'_dens.bin', "r")
    all_dens[ii] = np.fromfile(f, dtype=np.float64).reshape(-1,2)
    f = open(directory+inprefix[ii]+'_dens_rand.bin', "r")
    all_dens_ot[ii] = np.fromfile(f, dtype=np.float64).reshape(-1,2)

    mean_dens_arr[ii] = all_dens[ii][:,0] / volume[ii]
    mean_dens_arr_ot[ii] = all_dens_ot[ii][:,0] / volume[ii]

    var_dens_arr[ii] = (all_dens[ii][:,1] - all_dens[ii][:,0]**2/volume[ii]) / volume[ii]
    var_dens_arr_ot[ii] = (all_dens_ot[ii][:,1] - all_dens_ot[ii][:,0]**2/volume[ii]) / volume[ii]
    
    mean_dens = []
    var_dens = []
    mean_dens_ot = []
    for jj in range(len(vol_bins)-1):
        sel_id = [i for i in range(len(volume[ii])) \
                    if (volume[ii][i] >= vol_bins[jj] and volume[ii][i] < vol_bins[jj+1])]
        sel_dens = np.array(mean_dens_arr[ii])[sel_id]
        mean_dens.append([(float)(np.nanmean(sel_dens)), (float)(scipy.stats.sem(sel_dens))])
        sel_dens = np.array(var_dens_arr[ii])[sel_id]
        var_dens.append([(float)(np.nanmean(sel_dens)), (float)(scipy.stats.sem(sel_dens))])
        sel_dens = np.array(mean_dens_arr_ot[ii])[sel_id]
        mean_dens_ot.append([(float)(np.nanmean(sel_dens)), (float)(scipy.stats.sem(sel_dens))])
        
    mean_dens = np.asarray(mean_dens)
    var_dens = np.asarray(var_dens)
    mean_dens_ot = np.asarray(mean_dens_ot)
    mask = np.isfinite(mean_dens[:,0])
    print mask
    ax = plt.subplot(211)
    ax = plt.gca()
    ax.set_xscale('log')
    (_, caps, _) =  ax.errorbar(np.asarray(vol_bins[:-1])[mask], mean_dens[:,0][mask], mean_dens[:,1][mask], fmt='o', markersize=10,\
     linestyle ="None",  capsize = 15,color = color[ii], label = mylegend1[ii])
    if ii == nfiles -1:
        rleg = "Random"
    else:
        rleg = "_nolabel_"
    (_, caps, _) =  ax.errorbar(np.asarray(vol_bins[:-1])[mask], mean_dens_ot[:,0][mask], mean_dens_ot[:,1][mask], fmt='o', markersize=10,\
     linestyle =":",  capsize = 15,color = color[ii],markerfacecolor='none',label = rleg)
    plt.xlabel('Volume (Mpc^3)', fontsize=labelsize)
    plt.ylabel('Density average in bubbles', fontsize=labelsize)
    plt.title('PDF', fontsize=labelsize)
    plt.tick_params(axis = 'both', which = 'major', labelsize = 24)
    ax.legend(labels = mylegend1, loc = 'lower right', fontsize=10, frameon=False )
    ax2 = plt.subplot(212)
    ax2 = plt.gca()
    ax2.set_xscale('log')
    (_, caps, _) =  ax2.errorbar(np.asarray(vol_bins[:-1])[mask], var_dens[:,0][mask], var_dens[:,1][mask], fmt='o', markersize=10,\
     linestyle ="None",  capsize = 15,color = color[ii])
    #plt.plot(np.asarray(vol_bins[:-1])[mask], mean_dens[:,0][mask],linestyle ="--", marker ="o", markersize=12, color = color[ii])  
    plt.xlabel('Volume (Mpc^3)', fontsize=labelsize)
    plt.ylabel('Density variance in bubbles', fontsize=labelsize)
    plt.tick_params(axis = 'both', which = 'major', labelsize = 24)
    
ax.legend(loc='center left',bbox_to_anchor=(1, 0),  fontsize=15, ncol=1 ,fancybox=True, shadow=True)
plt.savefig(prefixsave+'_densav.pdf', bbox_inches='tight')


# Two point correlation
vol_bins = [10,100,1000]
vol_max = [90,150,200]


def func_powerlaw(x, m, c, c0):
    return c0 + x**m * c
for ii, name in enumerate(inprefix):
    fig = plt.figure(figsize=(30,10))
    fig.subplots_adjust(hspace=0)
    for jj in range(len(vol_bins)):
        if os.path.isfile(directory+inprefix[ii]+'_twoptcorr_V'+str(vol_bins[jj])+'.csv'):
            df = pd.read_csv(directory+inprefix[ii]+'_twoptcorr_V'+str(vol_bins[jj])+'.csv', header=None)

            mean_corr = []    
            std_corr = [] 
            labelsize = 15
            bootstd = []
            dist = np.asarray(df[:][0])
            corr = np.asarray(df[:][1])
            corr =corr.astype(float)
           # print corr

            err = np.asarray(df[:][2])
            err = err.astype(float)
            mask = np.isfinite(corr)
           # print corr
            for i in range(len(dist[mask])-1):
              #  print corr[mask][i] - corr[mask][i+1]

                if (corr[mask][i] - corr[mask][i+1]) > 0.0 and corr[mask][i] > 0.0:
                    ind = i
                    break
            if ind == 0:
                ind = 1
                
            #print ind
            ind = 2
            sol2, ss = curve_fit(func_powerlaw, dist[ind:50], corr[ind:50],\
                                 p0 = np.asarray([-1,10**5,0]), maxfev = 5000, sigma =err[ind:50])
            ax = plt.subplot(2,len(vol_bins), jj+1)
            #ax = fig.add_subplot(211)  
            (_, caps, _) =  ax.errorbar(dist, corr, err, fmt='x', markersize=5, linestyle ="None",  capsize = 5)
            #if(jj == 0):
            plt.plot(dist, func_powerlaw(dist, *sol2), 'k--')
            ax.text(dist[5],-0.4, \
                    "Power law fit : (%.2f +- %.2f) * r$^{(%.2f +- %.2f)}$ + (%.3f +- %.3f)"\
                    % (sol2[1],np.sqrt(ss[1][1]),sol2[0],np.sqrt(ss[0][0]),sol2[2],np.sqrt(ss[2][2])), fontsize = labelsize )

            plt.ylabel(r'<$\epsilon$(r)>', fontsize=labelsize)
            plt.title(mylegend2[ii]+' || V > '+str(vol_bins[jj]), fontsize=labelsize)
            plt.yticks(fontsize=20)
           # if(jj == 0):
            plt.ylim((-0.5,corr[mask][ind]+0.5))
           # else:
           #     plt.ylim((corr[mask][70],corr[mask][1]+0.5*corr[mask][1]))

            ax = plt.subplot(2,len(vol_bins), jj+1+len(vol_bins))
            #ax = fig.add_subplot(212)  
            (_, caps, _) =  ax.errorbar(dist, corr, err, fmt='x', markersize=5, linestyle ="None",  capsize = 5)
            plt.plot(dist, func_powerlaw(dist, *sol2), 'k--')

            plt.xlabel('Euclidian distance r (voxels)', fontsize=labelsize)
            plt.ylabel(r'<$\epsilon$(r)>', fontsize=labelsize)
            #plt.title(mylegend2[ii]+' || V > '+str(vol_bins[jj]), fontsize=labelsize)
            plt.yticks(fontsize=20)
            plt.xticks(fontsize=20)
            plt.ylim((-0.04,0.02))
            plt.savefig(prefixsave+'_'+os.path.basename(inprefix[ii])+str(ii)+'_V'+str(vol_bins[jj])+'_twopt.pdf', bbox_inches='tight')

#plt.legend()
#plt.plot(sol2)

    #ax.legend(fontsize=15 )
#ax.axhline(y=-0.333, xmin=0, xmax=100, c='k',linestyle = '--',label='Random') 
#ax.text(df.iloc[1,0], max(df.iloc[:20,2])+0.05, "Mean pairs/bin ~ "+str(np.round(np.nanmean(df.iloc[:,1])))+' (First bin:'+str(np.round(df.iloc[0,1]))+')', fontsize = labelsize )
#plt.savefig(prefixsave+'_'+inprefix[ii]+'_orien_V'+str(vol_bins[jj])+'.pdf', bbox_inches='tight')
#except:
       # ax = plt.subplot(len(vol_bins), nfiles, ii+jj*nfiles+1)
#            a +=1
#plt.savefig('Simulations/Images/512mpcR2V1LC1_orien.pdf', bbox_inches='tight')
